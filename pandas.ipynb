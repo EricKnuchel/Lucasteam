{
 "cells": [
  {
   "cell_type": "markdown",
   "metadata": {},
   "source": [
    "PROYECTO JUEGOS\n",
    "\n",
    "- Índice\n",
    "\n",
    "    1.-Lectura del CSV e información del mismo\n",
    "\n",
    "    2.- Sumario\n",
    "\n",
    "    3.-Informes:\n",
    "\n",
    "        3.1.-Listado de los juegos:\n",
    "\n",
    "            ▪ Todos los juegos con todas las columnas\n",
    "            ▪ Solo 25 juegos\n",
    "            ▪ Todas las columnas menos las de ventas\n",
    "            ▪ Ordenados por género\n",
    "\n",
    "        3.2.-Listados filtrados:\n",
    "\n",
    "            ▪ Juegos de Nintendo\n",
    "            ▪ Juegos del siglo XX\n",
    "            ▪ Juegos que aparecen en años pares\n",
    "\n",
    "        3.3.-Listado de ventas:\n",
    "\n",
    "            ▪ Top 15 juegos más vendidos en el mundo (gráfico)\n",
    "            ▪ Top 5 juegos más vendidos por región (Norte América, EU, JP, resto)\n",
    "            ▪ Juegos con media de ventas en Europa por encima de la media de ventas en Europa\n",
    "            ▪ Total ventas agrupadas por región y categoría\n",
    "            ▪ Sumas de las ventas por región y porcentaje correspondiente\n",
    "            ▪ Total ventas por región y año\n",
    "            ▪ Número de juegos de cada editor (gráfico)\n",
    "            ▪ Total ventas por región y editor\n",
    "            ▪ Ventas ordenadas por plataforma y región\n",
    "            ▪ Ventas por género (gráfico)\n",
    "            ▪ Indicar cual es el juego más popular, el género, el editor y la   plataforma de todos los tiempos | siglo XX | siglo XXI\n",
    "            ▪ Tendencias de ventas de videojuegos a lo largo de los años (gráfico)\n",
    "            ▪ Gráfico que relacione las ventas globales y la plataforma desglosados por géneros (gráfico)\n",
    "            ▪ Los 10 años con más ventas en Japón (gráfico)\n",
    "            ▪ Tipo de juego más vendido en cada región\n",
    "            ▪ Listado del editor que más juegos ha lanzado en cada año\n",
    "        \n",
    "    4.-EDA:\n",
    "    \n",
    "        4.1.-¿Existe alguna correlación en el siglo XX para los juegos más vendidos por región?  \n",
    "\n",
    "            ▪  ¿Y para el siglo XXI?  \n",
    "            ▪ ¿Es la misma tendencia si tomamos los datos de todos los años? \n",
    "\n",
    "        4.2.-¿Hay información incorrecta o nula?  \n",
    "\n",
    "            ▪ Si es así, ¿desvirtúa el resultado? \n",
    "\n",
    "        4.3.-¿Cuáles son los 5 años en los cuales aparecieron más juegos?  \n",
    "\n",
    "            ▪ ¿Se puede encontrar una explicación? \n",
    "            ▪ ¿Y si desglosamos esos 5 años por género? \n",
    "\n",
    "        4.4.-¿Qué genero ha sido el más versionado en algún momento? (referido a datos de un año) \n",
    "\n",
    "            ▪ ¿Tiene sentido? \n",
    "\n",
    "        4.5.-¿Se corresponde de alguna manera los editores que más venden con los que más juegos lanzan?  \n",
    "\n",
    "            ▪ ¿existe alguna correlación?"
   ]
  },
  {
   "cell_type": "markdown",
   "metadata": {},
   "source": [
    "1.-Lectura del CSV e información del mismo"
   ]
  },
  {
   "cell_type": "code",
   "execution_count": 2,
   "metadata": {},
   "outputs": [
    {
     "data": {
      "text/html": [
       "<div>\n",
       "<style scoped>\n",
       "    .dataframe tbody tr th:only-of-type {\n",
       "        vertical-align: middle;\n",
       "    }\n",
       "\n",
       "    .dataframe tbody tr th {\n",
       "        vertical-align: top;\n",
       "    }\n",
       "\n",
       "    .dataframe thead th {\n",
       "        text-align: right;\n",
       "    }\n",
       "</style>\n",
       "<table border=\"1\" class=\"dataframe\">\n",
       "  <thead>\n",
       "    <tr style=\"text-align: right;\">\n",
       "      <th></th>\n",
       "      <th>Rank</th>\n",
       "      <th>Year</th>\n",
       "      <th>NA_Sales</th>\n",
       "      <th>EU_Sales</th>\n",
       "      <th>JP_Sales</th>\n",
       "      <th>Other_Sales</th>\n",
       "      <th>Global_Sales</th>\n",
       "    </tr>\n",
       "  </thead>\n",
       "  <tbody>\n",
       "    <tr>\n",
       "      <th>count</th>\n",
       "      <td>500.000000</td>\n",
       "      <td>496.000000</td>\n",
       "      <td>500.000000</td>\n",
       "      <td>500.000000</td>\n",
       "      <td>500.000000</td>\n",
       "      <td>500.000000</td>\n",
       "      <td>500.000000</td>\n",
       "    </tr>\n",
       "    <tr>\n",
       "      <th>mean</th>\n",
       "      <td>250.500000</td>\n",
       "      <td>2005.092742</td>\n",
       "      <td>3.014580</td>\n",
       "      <td>1.916060</td>\n",
       "      <td>0.820980</td>\n",
       "      <td>0.600800</td>\n",
       "      <td>6.352300</td>\n",
       "    </tr>\n",
       "    <tr>\n",
       "      <th>std</th>\n",
       "      <td>144.481833</td>\n",
       "      <td>7.260761</td>\n",
       "      <td>3.415832</td>\n",
       "      <td>2.061512</td>\n",
       "      <td>1.321768</td>\n",
       "      <td>0.841739</td>\n",
       "      <td>6.146037</td>\n",
       "    </tr>\n",
       "    <tr>\n",
       "      <th>min</th>\n",
       "      <td>1.000000</td>\n",
       "      <td>1980.000000</td>\n",
       "      <td>0.000000</td>\n",
       "      <td>0.000000</td>\n",
       "      <td>0.000000</td>\n",
       "      <td>0.000000</td>\n",
       "      <td>2.890000</td>\n",
       "    </tr>\n",
       "    <tr>\n",
       "      <th>25%</th>\n",
       "      <td>125.750000</td>\n",
       "      <td>2001.000000</td>\n",
       "      <td>1.540000</td>\n",
       "      <td>0.990000</td>\n",
       "      <td>0.040000</td>\n",
       "      <td>0.220000</td>\n",
       "      <td>3.500000</td>\n",
       "    </tr>\n",
       "    <tr>\n",
       "      <th>50%</th>\n",
       "      <td>250.500000</td>\n",
       "      <td>2007.000000</td>\n",
       "      <td>2.160000</td>\n",
       "      <td>1.405000</td>\n",
       "      <td>0.160000</td>\n",
       "      <td>0.410000</td>\n",
       "      <td>4.390000</td>\n",
       "    </tr>\n",
       "    <tr>\n",
       "      <th>75%</th>\n",
       "      <td>375.250000</td>\n",
       "      <td>2010.000000</td>\n",
       "      <td>3.242500</td>\n",
       "      <td>2.175000</td>\n",
       "      <td>1.035000</td>\n",
       "      <td>0.702500</td>\n",
       "      <td>6.590000</td>\n",
       "    </tr>\n",
       "    <tr>\n",
       "      <th>max</th>\n",
       "      <td>500.000000</td>\n",
       "      <td>2016.000000</td>\n",
       "      <td>41.490000</td>\n",
       "      <td>29.020000</td>\n",
       "      <td>10.220000</td>\n",
       "      <td>10.570000</td>\n",
       "      <td>82.740000</td>\n",
       "    </tr>\n",
       "  </tbody>\n",
       "</table>\n",
       "</div>"
      ],
      "text/plain": [
       "             Rank         Year    NA_Sales    EU_Sales    JP_Sales  \\\n",
       "count  500.000000   496.000000  500.000000  500.000000  500.000000   \n",
       "mean   250.500000  2005.092742    3.014580    1.916060    0.820980   \n",
       "std    144.481833     7.260761    3.415832    2.061512    1.321768   \n",
       "min      1.000000  1980.000000    0.000000    0.000000    0.000000   \n",
       "25%    125.750000  2001.000000    1.540000    0.990000    0.040000   \n",
       "50%    250.500000  2007.000000    2.160000    1.405000    0.160000   \n",
       "75%    375.250000  2010.000000    3.242500    2.175000    1.035000   \n",
       "max    500.000000  2016.000000   41.490000   29.020000   10.220000   \n",
       "\n",
       "       Other_Sales  Global_Sales  \n",
       "count   500.000000    500.000000  \n",
       "mean      0.600800      6.352300  \n",
       "std       0.841739      6.146037  \n",
       "min       0.000000      2.890000  \n",
       "25%       0.220000      3.500000  \n",
       "50%       0.410000      4.390000  \n",
       "75%       0.702500      6.590000  \n",
       "max      10.570000     82.740000  "
      ]
     },
     "execution_count": 2,
     "metadata": {},
     "output_type": "execute_result"
    }
   ],
   "source": [
    "import pandas as pd\n",
    "import matplotlib.pyplot as plt\n",
    "\n",
    "\n",
    "#Leemos el csv y devolvemos la información contenida en el mismo junto con una descripción de los campos\n",
    "data = pd.read_csv(\"datos/vgsales.csv\", nrows=500)\n",
    "data.describe()"
   ]
  },
  {
   "cell_type": "markdown",
   "metadata": {},
   "source": [
    "2.-Sumario\n",
    "\n",
    "En este cuaderno Jupyter vamos a realizar una serie de listado y filtrados de información con la ayuda de la librería \"pandas\" y funciones matemáticas varias para recoger y mostrar la información especificada en cada uno de los puntos del índice."
   ]
  },
  {
   "cell_type": "markdown",
   "metadata": {},
   "source": [
    "3.-Informes:\n"
   ]
  },
  {
   "cell_type": "markdown",
   "metadata": {},
   "source": [
    "    3.1.-Listado de los juegos\n",
    "        ▪ Listado de todos los juegos"
   ]
  },
  {
   "cell_type": "code",
   "execution_count": 3,
   "metadata": {},
   "outputs": [
    {
     "name": "stdout",
     "output_type": "stream",
     "text": [
      "     Rank                                         Name Platform    Year  \\\n",
      "0       1                                   Wii Sports      Wii  2006.0   \n",
      "1       2                            Super Mario Bros.      NES  1985.0   \n",
      "2       3                               Mario Kart Wii      Wii  2008.0   \n",
      "3       4                            Wii Sports Resort      Wii  2009.0   \n",
      "4       5                     Pokemon Red/Pokemon Blue       GB  1996.0   \n",
      "..    ...                                          ...      ...     ...   \n",
      "495   496                   Sonic Mega Collection Plus      PS2  2004.0   \n",
      "496   497                       Sega Superstars Tennis     X360  2008.0   \n",
      "497   498  World Soccer Winning Eleven 7 International      PS2  2003.0   \n",
      "498   499                  Need for Speed: Most Wanted      PS3  2012.0   \n",
      "499   500                             Hot Shots Golf 3      PS2  2001.0   \n",
      "\n",
      "            Genre                     Publisher  NA_Sales  EU_Sales  JP_Sales  \\\n",
      "0          Sports                      Nintendo     41.49     29.02      3.77   \n",
      "1        Platform                      Nintendo     29.08      3.58      6.81   \n",
      "2          Racing                      Nintendo     15.85     12.88      3.79   \n",
      "3          Sports                      Nintendo     15.75     11.01      3.28   \n",
      "4    Role-Playing                      Nintendo     11.27      8.89     10.22   \n",
      "..            ...                           ...       ...       ...       ...   \n",
      "495          Misc                          Sega      1.54      1.14      0.00   \n",
      "496        Sports                          Sega      1.75      0.86      0.00   \n",
      "497        Sports  Konami Digital Entertainment      0.08      1.24      1.13   \n",
      "498        Racing               Electronic Arts      0.71      1.51      0.06   \n",
      "499        Sports   Sony Computer Entertainment      0.99      0.32      1.38   \n",
      "\n",
      "     Other_Sales  Global_Sales  \n",
      "0           8.46         82.74  \n",
      "1           0.77         40.24  \n",
      "2           3.31         35.82  \n",
      "3           2.96         33.00  \n",
      "4           1.00         31.37  \n",
      "..           ...           ...  \n",
      "495         0.22          2.90  \n",
      "496         0.28          2.90  \n",
      "497         0.45          2.90  \n",
      "498         0.61          2.89  \n",
      "499         0.20          2.89  \n",
      "\n",
      "[500 rows x 11 columns]\n"
     ]
    }
   ],
   "source": [
    "print(data)"
   ]
  },
  {
   "cell_type": "markdown",
   "metadata": {},
   "source": [
    "        ▪ Solo 25 juegos"
   ]
  },
  {
   "cell_type": "code",
   "execution_count": 4,
   "metadata": {},
   "outputs": [
    {
     "name": "stdout",
     "output_type": "stream",
     "text": [
      "    Rank                                          Name Platform    Year  \\\n",
      "0      1                                    Wii Sports      Wii  2006.0   \n",
      "1      2                             Super Mario Bros.      NES  1985.0   \n",
      "2      3                                Mario Kart Wii      Wii  2008.0   \n",
      "3      4                             Wii Sports Resort      Wii  2009.0   \n",
      "4      5                      Pokemon Red/Pokemon Blue       GB  1996.0   \n",
      "5      6                                        Tetris       GB  1989.0   \n",
      "6      7                         New Super Mario Bros.       DS  2006.0   \n",
      "7      8                                      Wii Play      Wii  2006.0   \n",
      "8      9                     New Super Mario Bros. Wii      Wii  2009.0   \n",
      "9     10                                     Duck Hunt      NES  1984.0   \n",
      "10    11                                    Nintendogs       DS  2005.0   \n",
      "11    12                                 Mario Kart DS       DS  2005.0   \n",
      "12    13                   Pokemon Gold/Pokemon Silver       GB  1999.0   \n",
      "13    14                                       Wii Fit      Wii  2007.0   \n",
      "14    15                                  Wii Fit Plus      Wii  2009.0   \n",
      "15    16                            Kinect Adventures!     X360  2010.0   \n",
      "16    17                            Grand Theft Auto V      PS3  2013.0   \n",
      "17    18                 Grand Theft Auto: San Andreas      PS2  2004.0   \n",
      "18    19                             Super Mario World     SNES  1990.0   \n",
      "19    20  Brain Age: Train Your Brain in Minutes a Day       DS  2005.0   \n",
      "20    21                 Pokemon Diamond/Pokemon Pearl       DS  2006.0   \n",
      "21    22                              Super Mario Land       GB  1989.0   \n",
      "22    23                           Super Mario Bros. 3      NES  1988.0   \n",
      "23    24                            Grand Theft Auto V     X360  2013.0   \n",
      "24    25                   Grand Theft Auto: Vice City      PS2  2002.0   \n",
      "25    26                 Pokemon Ruby/Pokemon Sapphire      GBA  2002.0   \n",
      "\n",
      "           Genre               Publisher  NA_Sales  EU_Sales  JP_Sales  \\\n",
      "0         Sports                Nintendo     41.49     29.02      3.77   \n",
      "1       Platform                Nintendo     29.08      3.58      6.81   \n",
      "2         Racing                Nintendo     15.85     12.88      3.79   \n",
      "3         Sports                Nintendo     15.75     11.01      3.28   \n",
      "4   Role-Playing                Nintendo     11.27      8.89     10.22   \n",
      "5         Puzzle                Nintendo     23.20      2.26      4.22   \n",
      "6       Platform                Nintendo     11.38      9.23      6.50   \n",
      "7           Misc                Nintendo     14.03      9.20      2.93   \n",
      "8       Platform                Nintendo     14.59      7.06      4.70   \n",
      "9        Shooter                Nintendo     26.93      0.63      0.28   \n",
      "10    Simulation                Nintendo      9.07     11.00      1.93   \n",
      "11        Racing                Nintendo      9.81      7.57      4.13   \n",
      "12  Role-Playing                Nintendo      9.00      6.18      7.20   \n",
      "13        Sports                Nintendo      8.94      8.03      3.60   \n",
      "14        Sports                Nintendo      9.09      8.59      2.53   \n",
      "15          Misc  Microsoft Game Studios     14.97      4.94      0.24   \n",
      "16        Action    Take-Two Interactive      7.01      9.27      0.97   \n",
      "17        Action    Take-Two Interactive      9.43      0.40      0.41   \n",
      "18      Platform                Nintendo     12.78      3.75      3.54   \n",
      "19          Misc                Nintendo      4.75      9.26      4.16   \n",
      "20  Role-Playing                Nintendo      6.42      4.52      6.04   \n",
      "21      Platform                Nintendo     10.83      2.71      4.18   \n",
      "22      Platform                Nintendo      9.54      3.44      3.84   \n",
      "23        Action    Take-Two Interactive      9.63      5.31      0.06   \n",
      "24        Action    Take-Two Interactive      8.41      5.49      0.47   \n",
      "25  Role-Playing                Nintendo      6.06      3.90      5.38   \n",
      "\n",
      "    Other_Sales  Global_Sales  \n",
      "0          8.46         82.74  \n",
      "1          0.77         40.24  \n",
      "2          3.31         35.82  \n",
      "3          2.96         33.00  \n",
      "4          1.00         31.37  \n",
      "5          0.58         30.26  \n",
      "6          2.90         30.01  \n",
      "7          2.85         29.02  \n",
      "8          2.26         28.62  \n",
      "9          0.47         28.31  \n",
      "10         2.75         24.76  \n",
      "11         1.92         23.42  \n",
      "12         0.71         23.10  \n",
      "13         2.15         22.72  \n",
      "14         1.79         22.00  \n",
      "15         1.67         21.82  \n",
      "16         4.14         21.40  \n",
      "17        10.57         20.81  \n",
      "18         0.55         20.61  \n",
      "19         2.05         20.22  \n",
      "20         1.37         18.36  \n",
      "21         0.42         18.14  \n",
      "22         0.46         17.28  \n",
      "23         1.38         16.38  \n",
      "24         1.78         16.15  \n",
      "25         0.50         15.85  \n"
     ]
    }
   ],
   "source": [
    "print(data.loc[:25])"
   ]
  },
  {
   "cell_type": "markdown",
   "metadata": {},
   "source": [
    "        ▪ Todas las columnas menos las ventas"
   ]
  },
  {
   "cell_type": "code",
   "execution_count": 5,
   "metadata": {},
   "outputs": [
    {
     "name": "stdout",
     "output_type": "stream",
     "text": [
      "                            Name Platform    Year         Genre Publisher\n",
      "1              Super Mario Bros.      NES  1985.0      Platform  Nintendo\n",
      "4       Pokemon Red/Pokemon Blue       GB  1996.0  Role-Playing  Nintendo\n",
      "5                         Tetris       GB  1989.0        Puzzle  Nintendo\n",
      "9                      Duck Hunt      NES  1984.0       Shooter  Nintendo\n",
      "12   Pokemon Gold/Pokemon Silver       GB  1999.0  Role-Playing  Nintendo\n",
      "..                           ...      ...     ...           ...       ...\n",
      "455                  Donkey Kong       GB  1994.0      Platform  Nintendo\n",
      "462                       Rayman       PS  1995.0      Platform   Ubisoft\n",
      "465     Mike Tyson's Punch-Out!!      NES  1987.0      Fighting  Nintendo\n",
      "472                     Star Fox     SNES  1993.0       Shooter  Nintendo\n",
      "484                 Wave Race 64      N64  1996.0        Racing  Nintendo\n",
      "\n",
      "[103 rows x 5 columns]\n"
     ]
    }
   ],
   "source": [
    "games_siglo_xx = data[data['Year'] < 2000]\n",
    "print(games_siglo_xx[['Name', 'Platform', 'Year', 'Genre', 'Publisher']])\n"
   ]
  },
  {
   "cell_type": "markdown",
   "metadata": {},
   "source": [
    "        ▪ Ordenadas por género"
   ]
  },
  {
   "cell_type": "code",
   "execution_count": 6,
   "metadata": {},
   "outputs": [
    {
     "name": "stdout",
     "output_type": "stream",
     "text": [
      "     Rank                                 Name Platform    Year     Genre  \\\n",
      "222   223                  Batman: Arkham City     X360  2011.0    Action   \n",
      "458   459                        Kung Fu Panda     X360  2008.0    Action   \n",
      "196   197                      Resident Evil 5      PS3  2009.0    Action   \n",
      "197   198                   Grand Theft Auto V     XOne  2014.0    Action   \n",
      "198   199  Grand Theft Auto: Vice City Stories      PSP  2006.0    Action   \n",
      "..    ...                                  ...      ...     ...       ...   \n",
      "267   268       Warcraft II: Tides of Darkness       PC  1995.0  Strategy   \n",
      "204   205                         Warzone 2100       PS  1999.0  Strategy   \n",
      "165   166                      Pokemon Stadium      N64  1999.0  Strategy   \n",
      "335   336            Pokémon Trading Card Game       GB  1998.0  Strategy   \n",
      "217   218       StarCraft II: Wings of Liberty       PC  2010.0  Strategy   \n",
      "\n",
      "                                  Publisher  NA_Sales  EU_Sales  JP_Sales  \\\n",
      "222  Warner Bros. Interactive Entertainment      2.99      1.31      0.04   \n",
      "458                              Activision      1.91      0.84      0.00   \n",
      "196                                  Capcom      1.96      1.43      1.08   \n",
      "197                    Take-Two Interactive      2.66      2.01      0.00   \n",
      "198                    Take-Two Interactive      1.70      2.02      0.16   \n",
      "..                                      ...       ...       ...       ...   \n",
      "267                              Activision      1.70      2.27      0.00   \n",
      "204                       Eidos Interactive      2.79      1.89      0.00   \n",
      "165                                Nintendo      3.18      1.24      0.94   \n",
      "335                                Nintendo      1.49      0.73      1.38   \n",
      "217                              Activision      2.56      1.68      0.00   \n",
      "\n",
      "     Other_Sales  Global_Sales  \n",
      "222         0.41          4.76  \n",
      "458         0.29          3.05  \n",
      "196         0.65          5.11  \n",
      "197         0.41          5.08  \n",
      "198         1.21          5.08  \n",
      "..           ...           ...  \n",
      "267         0.23          4.21  \n",
      "204         0.33          5.01  \n",
      "165         0.09          5.45  \n",
      "335         0.10          3.70  \n",
      "217         0.59          4.83  \n",
      "\n",
      "[500 rows x 11 columns]\n"
     ]
    }
   ],
   "source": [
    "order_genre = data.sort_values('Genre',ascending=True)\n",
    "print(order_genre)"
   ]
  },
  {
   "cell_type": "markdown",
   "metadata": {},
   "source": [
    "    3.2.-Listados filtrados\n",
    "\n",
    "        ▪ Juegos de Nintendo"
   ]
  },
  {
   "cell_type": "code",
   "execution_count": 7,
   "metadata": {},
   "outputs": [
    {
     "name": "stdout",
     "output_type": "stream",
     "text": [
      "     Rank                                  Name Platform    Year  \\\n",
      "0       1                            Wii Sports      Wii  2006.0   \n",
      "1       2                     Super Mario Bros.      NES  1985.0   \n",
      "2       3                        Mario Kart Wii      Wii  2008.0   \n",
      "3       4                     Wii Sports Resort      Wii  2009.0   \n",
      "4       5              Pokemon Red/Pokemon Blue       GB  1996.0   \n",
      "..    ...                                   ...      ...     ...   \n",
      "476   477  Animal Crossing: Happy Home Designer      3DS  2015.0   \n",
      "481   482                Kirby Super Star Ultra       DS  2008.0   \n",
      "484   485                          Wave Race 64      N64  1996.0   \n",
      "490   491               WarioWare: Smooth Moves      Wii  2006.0   \n",
      "492   493   Super Mario World 2: Yoshi's Island      GBA  2002.0   \n",
      "\n",
      "            Genre Publisher  NA_Sales  EU_Sales  JP_Sales  Other_Sales  \\\n",
      "0          Sports  Nintendo     41.49     29.02      3.77         8.46   \n",
      "1        Platform  Nintendo     29.08      3.58      6.81         0.77   \n",
      "2          Racing  Nintendo     15.85     12.88      3.79         3.31   \n",
      "3          Sports  Nintendo     15.75     11.01      3.28         2.96   \n",
      "4    Role-Playing  Nintendo     11.27      8.89     10.22         1.00   \n",
      "..            ...       ...       ...       ...       ...          ...   \n",
      "476    Simulation  Nintendo      0.47      1.00      1.39         0.12   \n",
      "481      Platform  Nintendo      1.57      0.04      1.19         0.15   \n",
      "484        Racing  Nintendo      1.98      0.58      0.34         0.04   \n",
      "490        Puzzle  Nintendo      0.87      1.06      0.73         0.26   \n",
      "492      Platform  Nintendo      1.75      0.45      0.62         0.09   \n",
      "\n",
      "     Global_Sales  \n",
      "0           82.74  \n",
      "1           40.24  \n",
      "2           35.82  \n",
      "3           33.00  \n",
      "4           31.37  \n",
      "..            ...  \n",
      "476          2.98  \n",
      "481          2.96  \n",
      "484          2.94  \n",
      "490          2.92  \n",
      "492          2.91  \n",
      "\n",
      "[141 rows x 11 columns]\n"
     ]
    }
   ],
   "source": [
    "data_filter = data[\"Publisher\"] == \"Nintendo\"\n",
    "filtro_nintendo = data[data_filter]\n",
    "print(filtro_nintendo)\n"
   ]
  },
  {
   "cell_type": "markdown",
   "metadata": {},
   "source": [
    "    3.3.-Listado de ventas\n",
    "\n",
    "        Top 15 juegos"
   ]
  },
  {
   "cell_type": "code",
   "execution_count": 8,
   "metadata": {},
   "outputs": [
    {
     "data": {
      "image/png": "[encoded data removed]",
      "text/plain": [
       "<Figure size 1000x600 with 1 Axes>"
      ]
     },
     "metadata": {},
     "output_type": "display_data"
    }
   ],
   "source": [
    "# mostrar los juegos mas vendidos en global\n",
    "top_game = data.sort_values(by='Global_Sales', ascending=False).head(10)\n",
    "\n",
    "# Crear un gráfico que muestre los resultados por plataforma\n",
    "# top_game.plot(kind='bar', figsize=(12, 8))\n",
    "\n",
    "# Crear un gráfico de barras\n",
    "plt.figure(figsize=(10, 6))\n",
    "plt.bar(top_game['Name'], top_game['Global_Sales'], color='blue')\n",
    "plt.xlabel('Juegos')\n",
    "plt.ylabel('Ventas Globales (en millones)')\n",
    "plt.title('Top 10 Juegos Más Vendidos en el Mundo')\n",
    "plt.xticks(rotation=45, ha='right')\n",
    "plt.tight_layout()\n",
    "# Mostrar el gráfico\n",
    "plt.show()"
   ]
  },
  {
   "cell_type": "markdown",
   "metadata": {},
   "source": [
    "Top 5 juegos por regiones\n"
   ]
  },
  {
   "cell_type": "code",
   "execution_count": 9,
   "metadata": {},
   "outputs": [
    {
     "name": "stdout",
     "output_type": "stream",
     "text": [
      "Top 5 NA\n",
      "   Rank               Name  NA_Sales\n",
      "0     1         Wii Sports     41.49\n",
      "1     2  Super Mario Bros.     29.08\n",
      "9    10          Duck Hunt     26.93\n",
      "5     6             Tetris     23.20\n",
      "2     3     Mario Kart Wii     15.85\n",
      "\n",
      "\n",
      "Top 5 EU\n",
      "    Rank                Name  EU_Sales\n",
      "0      1          Wii Sports     29.02\n",
      "2      3      Mario Kart Wii     12.88\n",
      "3      4   Wii Sports Resort     11.01\n",
      "10    11          Nintendogs     11.00\n",
      "16    17  Grand Theft Auto V      9.27\n",
      "\n",
      "\n",
      "Top 5 JP\n",
      "    Rank                           Name  JP_Sales\n",
      "4      5       Pokemon Red/Pokemon Blue     10.22\n",
      "12    13    Pokemon Gold/Pokemon Silver      7.20\n",
      "1      2              Super Mario Bros.      6.81\n",
      "6      7          New Super Mario Bros.      6.50\n",
      "20    21  Pokemon Diamond/Pokemon Pearl      6.04\n",
      "\n",
      "\n",
      "Top 5 Other\n",
      "    Rank                           Name  Other_Sales\n",
      "17    18  Grand Theft Auto: San Andreas        10.57\n",
      "0      1                     Wii Sports         8.46\n",
      "47    48                 Gran Turismo 4         7.53\n",
      "16    17             Grand Theft Auto V         4.14\n",
      "2      3                 Mario Kart Wii         3.31\n"
     ]
    }
   ],
   "source": [
    "top_game_na = data.sort_values(by='NA_Sales', ascending=False).head(5)\n",
    "\n",
    "top_game_eu = data.sort_values(by='EU_Sales', ascending=False).head(5)\n",
    "\n",
    "top_game_jp = data.sort_values(by='JP_Sales', ascending=False).head(5)\n",
    "\n",
    "top_game_other = data.sort_values(by='Other_Sales', ascending=False).head(5)\n",
    "\n",
    "print(\"Top 5 NA\")\n",
    "print(top_game_na[[\"Rank\",\"Name\",\"NA_Sales\"]])\n",
    "print(\"\\n\")\n",
    "print(\"Top 5 EU\")\n",
    "print(top_game_eu[[\"Rank\",\"Name\",\"EU_Sales\"]])\n",
    "print(\"\\n\")\n",
    "print(\"Top 5 JP\")\n",
    "print(top_game_jp[[\"Rank\",\"Name\",\"JP_Sales\"]])\n",
    "print(\"\\n\")\n",
    "print(\"Top 5 Other\")\n",
    "print(top_game_other[[\"Rank\",\"Name\",\"Other_Sales\"]])"
   ]
  },
  {
   "cell_type": "markdown",
   "metadata": {},
   "source": [
    "Total ventas agrupadas por región y categoría\n"
   ]
  },
  {
   "cell_type": "code",
   "execution_count": 10,
   "metadata": {},
   "outputs": [
    {
     "name": "stdout",
     "output_type": "stream",
     "text": [
      "              NA_Sales  EU_Sales  JP_Sales  Other_Sales\n",
      "Genre                                                  \n",
      "Action          267.65    183.31     39.30        72.74\n",
      "Adventure        19.61     11.30      4.64         3.24\n",
      "Fighting         55.18     26.82     21.67         7.87\n",
      "Misc            128.09     86.03     29.88        24.50\n",
      "Platform        235.33    101.44     73.33        23.70\n",
      "Puzzle           47.42     18.02     18.42         3.73\n",
      "Racing          111.32     81.88     33.57        29.57\n",
      "Role-Playing    146.52    100.82    126.58        25.01\n",
      "Shooter         282.15    143.52     12.34        49.14\n",
      "Simulation       41.25     42.53     19.28         8.59\n",
      "Sports          161.05    154.55     29.16        50.97\n",
      "Strategy         11.72      7.81      2.32         1.34\n"
     ]
    }
   ],
   "source": [
    "group_gen = data.groupby(by=[\"Genre\"]).sum()\n",
    "\n",
    "print(group_gen[[\"NA_Sales\",\"EU_Sales\",\"JP_Sales\",\"Other_Sales\"]])"
   ]
  },
  {
   "cell_type": "markdown",
   "metadata": {},
   "source": [
    "Grafica de ventas por género"
   ]
  },
  {
   "cell_type": "code",
   "execution_count": 11,
   "metadata": {},
   "outputs": [
    {
     "data": {
      "image/png": "[encoded data removed]",
      "text/plain": [
       "<Figure size 1000x600 with 1 Axes>"
      ]
     },
     "metadata": {},
     "output_type": "display_data"
    }
   ],
   "source": [
    "# Crear un gráfico de barras\n",
    "plt.figure(figsize=(10, 6))\n",
    "plt.bar(data['Genre'], data['Global_Sales'], color='green')\n",
    "plt.xlabel('Géneros')\n",
    "plt.ylabel('Ventas Globales (en millones)')\n",
    "plt.title('Ventas globales por género')\n",
    "plt.xticks(rotation=45, ha='right')\n",
    "plt.tight_layout()\n",
    "# Mostrar el gráfico\n",
    "plt.show()"
   ]
  },
  {
   "cell_type": "markdown",
   "metadata": {},
   "source": [
    "Indicar cual es el juego más popular, el género, el editor y la plataforma \n",
    "de todos los tiempos | siglo XX  | siglo XXI "
   ]
  },
  {
   "cell_type": "code",
   "execution_count": 12,
   "metadata": {},
   "outputs": [
    {
     "name": "stdout",
     "output_type": "stream",
     "text": [
      "El juego más popular de todos los tiempos es\n",
      "             Genre Publisher Platform  Global_Sales\n",
      "Name                                               \n",
      "Wii Sports  Sports  Nintendo      Wii         82.74\n",
      "\n",
      "\n",
      "El juego más popular del Siglo XX es\n",
      "                      Genre Publisher Platform  Global_Sales\n",
      "Name                                                        \n",
      "Super Mario Bros.  Platform  Nintendo      NES         40.24\n",
      "\n",
      "\n",
      "El juego más popular del Siglo XXI es\n",
      "             Genre Publisher Platform  Global_Sales\n",
      "Name                                               \n",
      "Wii Sports  Sports  Nintendo      Wii         82.74\n"
     ]
    }
   ],
   "source": [
    "j_popular_all = data.groupby([\"Name\"]).first().sort_values(by=\"Global_Sales\", ascending=False).head(1)\n",
    "print(\"El juego más popular de todos los tiempos es\")\n",
    "print(j_popular_all[[\"Genre\",\"Publisher\",\"Platform\",\"Global_Sales\"]])\n",
    "print(\"\\n\")\n",
    "\n",
    "data_XX = data[data[\"Year\"] < 2000]\n",
    "\n",
    "j_popular_XX = data_XX.groupby([\"Name\"]).first().sort_values(by=\"Global_Sales\", ascending=False).head(1)\n",
    "print(\"El juego más popular del Siglo XX es\")\n",
    "print(j_popular_XX[[\"Genre\",\"Publisher\",\"Platform\",\"Global_Sales\"]])\n",
    "print(\"\\n\")\n",
    "\n",
    "data_XXI = data[data[\"Year\"] > 2000]\n",
    "\n",
    "j_popular_XXI = data_XXI.groupby([\"Name\"]).sum().sort_values(by=\"Global_Sales\", ascending=False).head(1)\n",
    "print(\"El juego más popular del Siglo XXI es\")\n",
    "print(j_popular_XXI[[\"Genre\",\"Publisher\",\"Platform\",\"Global_Sales\"]])\n",
    "\n"
   ]
  },
  {
   "cell_type": "markdown",
   "metadata": {},
   "source": [
    "Tipo de Juegos más vendidos de cada región"
   ]
  },
  {
   "cell_type": "code",
   "execution_count": 18,
   "metadata": {},
   "outputs": [
    {
     "name": "stdout",
     "output_type": "stream",
     "text": [
      "              NA_Sales\n",
      "Genre                 \n",
      "Shooter         282.15\n",
      "Action          267.65\n",
      "Platform        235.33\n",
      "Sports          161.05\n",
      "Role-Playing    146.52\n",
      "Misc            128.09\n",
      "Racing          111.32\n",
      "Fighting         55.18\n",
      "Puzzle           47.42\n",
      "Simulation       41.25\n",
      "Adventure        19.61\n",
      "Strategy         11.72\n",
      "\n",
      "\n",
      "              EU_Sales\n",
      "Genre                 \n",
      "Action          183.31\n",
      "Sports          154.55\n",
      "Shooter         143.52\n",
      "Platform        101.44\n",
      "Role-Playing    100.82\n",
      "Misc             86.03\n",
      "Racing           81.88\n",
      "Simulation       42.53\n",
      "Fighting         26.82\n",
      "Puzzle           18.02\n",
      "Adventure        11.30\n",
      "Strategy          7.81\n",
      "\n",
      "\n",
      "              JP_Sales\n",
      "Genre                 \n",
      "Role-Playing    126.58\n",
      "Platform         73.33\n",
      "Action           39.30\n",
      "Racing           33.57\n",
      "Misc             29.88\n",
      "Sports           29.16\n",
      "Fighting         21.67\n",
      "Simulation       19.28\n",
      "Puzzle           18.42\n",
      "Shooter          12.34\n",
      "Adventure         4.64\n",
      "Strategy          2.32\n",
      "\n",
      "\n",
      "              Other_Sales\n",
      "Genre                    \n",
      "Action              72.74\n",
      "Sports              50.97\n",
      "Shooter             49.14\n",
      "Racing              29.57\n",
      "Role-Playing        25.01\n",
      "Misc                24.50\n",
      "Platform            23.70\n",
      "Simulation           8.59\n",
      "Fighting             7.87\n",
      "Puzzle               3.73\n",
      "Adventure            3.24\n",
      "Strategy             1.34\n",
      "\n",
      "\n"
     ]
    }
   ],
   "source": [
    "group_gen_na_sales = data.groupby(by=[\"Genre\"]).sum().sort_values(by=[\"NA_Sales\"], ascending=False)\n",
    "\n",
    "group_gen_eu_sales = data.groupby(by=[\"Genre\"]).sum().sort_values(by=[\"EU_Sales\"], ascending=False)\n",
    "\n",
    "group_gen_jp_sales = data.groupby(by=[\"Genre\"]).sum().sort_values(by=[\"JP_Sales\"], ascending=False)\n",
    "\n",
    "group_gen_other_sales = data.groupby(by=[\"Genre\"]).sum().sort_values(by=[\"Other_Sales\"], ascending=False)\n",
    "\n",
    "print(group_gen_na_sales[[\"NA_Sales\"]])\n",
    "print(\"\\n\")\n",
    "print(group_gen_eu_sales[[\"EU_Sales\"]])\n",
    "print(\"\\n\")\n",
    "print(group_gen_jp_sales[[\"JP_Sales\"]])\n",
    "print(\"\\n\")\n",
    "print(group_gen_other_sales[[\"Other_Sales\"]])\n",
    "print(\"\\n\")"
   ]
  }
 ],
 "metadata": {
  "kernelspec": {
   "display_name": "Python 3",
   "language": "python",
   "name": "python3"
  },
  "language_info": {
   "codemirror_mode": {
    "name": "ipython",
    "version": 3
   },
   "file_extension": ".py",
   "mimetype": "text/x-python",
   "name": "python",
   "nbconvert_exporter": "python",
   "pygments_lexer": "ipython3",
   "version": "3.8.10"
  }
 },
 "nbformat": 4,
 "nbformat_minor": 2
}
